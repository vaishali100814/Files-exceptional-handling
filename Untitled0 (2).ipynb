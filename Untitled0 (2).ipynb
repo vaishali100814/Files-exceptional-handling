{
  "nbformat": 4,
  "nbformat_minor": 0,
  "metadata": {
    "colab": {
      "provenance": []
    },
    "kernelspec": {
      "name": "python3",
      "display_name": "Python 3"
    },
    "language_info": {
      "name": "python"
    }
  },
  "cells": [
    {
      "cell_type": "markdown",
      "source": [
        "# Files, exceptional handling"
      ],
      "metadata": {
        "id": "a5Z9i-SJ-sNE"
      }
    },
    {
      "cell_type": "markdown",
      "source": [
        "1. What is the difference between interpreted and compiled languages?\n",
        "  - The main difference between interpreted and compiled languages lies in how they execute code. Compiled languages translate the entire program into machine code before execution, while interpreted languages execute the code line by line as it's being run.\n",
        "2. What is exception handling in Python?\n",
        "  - Exception handling in Python is a mechanism to manage errors that occur during program execution, preventing abrupt crashes and enhancing the robustness of applications. It allows programmers to anticipate potential issues, specify actions to take when exceptions occur, and ensure programs run smoothly.\n",
        "3. What is the purpose of the finally block in exception handling?\n",
        "  - The purpose of the finally block in exception handling is to ensure that certain code, often cleanup or resource release code, is executed regardless of whether an exception was thrown in the preceding try block. This ensures critical operations like closing files or database connections are performed, even if the program flow is interrupted by an exception.\n",
        "4. What is logging in Python?\n",
        "  - Logging in Python is a built-in module that provides a flexible framework for recording events that occur during a program's execution. It allows developers to track application behavior, troubleshoot issues, and monitor performance by recording messages at different severity levels.\n",
        "5. What is the significance of the __del__ method in Python?\n",
        "  - The __del__ method in Python is a special method, often referred to as a destructor. It is automatically called when an object is about to be destroyed, typically when its reference count drops to zero, or during garbage collection.\n",
        "6. What is the difference between import and from ... import in Python?\n",
        "  - In general, you should use the import statement when you need to use many attributes from a module, or when the module name is short and easy to remember. You should use the from statement when you only need to use a few attributes from a module, or when the module name is long and hard to remember.\n",
        "7. How can you handle multiple exceptions in Python?\n",
        "  - Python allows you to catch multiple exceptions in a single 'except' block by specifying them as a tuple. This feature is useful when different exceptions require similar handling logic. In this case, if either 'ExceptionType1' or 'ExceptionType2' is raised, the code within the 'except' block will be executed.\n",
        "8. What is the purpose of the with statement when handling files in Python?\n",
        "  - The with statement in Python simplifies file handling by ensuring that files are automatically closed after their operations are completed. This is crucial for preventing resource leaks and data corruption, especially when errors occur during file processing.\n",
        "9. What is the difference between multithreading and multiprocessing?\n",
        "  - Multithreading and multiprocessing are two different approaches to parallelism, both aimed at improving performance, but they differ in how they achieve this and the resources they utilize. Multithreading involves creating multiple threads within a single process, enabling concurrency, while multiprocessing involves running multiple independent processes, each with its own memory space.\n",
        "10. What are the advantages of using logging in a program?\n",
        "  - Logging is essential to understand the behaviour of the application and to debug unexpected issues or for simply tracking events. In the production environment, we can't debug issues without proper log files as they become the only source of information to debug some intermittent or unexpected errors.\n",
        "11. What is memory management in Python?\n",
        "  - Memory management in Python is the process of allocating and deallocating memory for objects during program execution. This is handled automatically by Python's memory manager, which uses a private heap to store objects and data structures.\n",
        "12. What are the basic steps involved in exception handling in Python?\n",
        "  - In Python, exceptions are caught and handled using the 'try' and 'except' block. 'try' contains the code segment which is susceptible to error, while 'except' is where the program should jump in case an exception occurs. You can use multiple 'except' blocks for handling different types of exceptions.\n",
        "13. Why is memory management important in Python?\n",
        "  - Memory management is the process of controlling and coordinating a computer's main memory. It ensures that blocks of memory space are properly managed and allocated so the operating system (OS), applications and other running processes have the memory they need to carry out their operations.\n",
        "14. What is the role of try and except in exception handling?              \n",
        "  - n exception handling, the try and except blocks play distinct roles in managing potential errors.The try block encloses the code that might raise an exception. It signals the start of a section where errors are anticipated. If an error occurs within this block, the program's normal flow is interrupted. The except block is designed to catch and handle specific exceptions that may arise within the preceding try block. It specifies the type of exception it is prepared to handle. If the exception matches the one specified in the except block, the code within that block is executed, preventing the program from crashing.\n",
        "15. How does Python's garbage collection system work?\n",
        "  - Python's garbage collection system automatically reclaims memory occupied by objects that are no longer in use. It employs a combination of techniques to ensure efficient memory management. Python primarily uses reference counting. Every object maintains a count of how many references point to it. When an object is created, its reference count is set to one. When another variable refers to the same object, the count increments. Conversely, when a reference is deleted or reassigned, the count decrements. When the count reaches zero, the object is deallocated.\n",
        "16. What is the purpose of the else block in exception handling?\n",
        "  - In exception handling, the else block serves a specific purpose: it executes only if the try block completes successfully without raising any exceptions.The 'else' block is useful when you want to perform specific actions when no exceptions occur. It can be used, for example, to execute additional code if the 'try' block succeeds in its operation and enhances the program flow.\n",
        "17. What are the common logging levels in Python?\n",
        "  - Python Logging Levels, There are six levels for logging in Python; each level is associated with an integer that indicates the log severity: NOTSET=0, DEBUG=10, INFO=20, WARN=30, ERROR=40, and CRITICAL=50. These levels are associated with integer values, allowing you to set a threshold for logging. The logger will only record messages with a severity level at or above the set threshold. For instance, if the logger is set to WARNING, it will log WARNING, ERROR, and CRITICAL messages but not DEBUG or INFO messages.\n",
        "18. What is the difference between os.fork() and multiprocessing in Python?\n",
        "  - Multiprocessing is the preferred way to create and manage processes in Python due to its portability, robustness, and high-level interface. os.fork() is a low-level system call that is best avoided unless you have specific needs and understand its limitations.\n",
        "19. What is the importance of closing a file in Python?\n",
        "  - When a file is opened, the operating system allocates resources to manage it. Closing the file releases these resources, preventing resource leaks and improving system performance. Some operations, like writing, require exclusive access to a file. If a file is not closed, it may remain locked, preventing other processes or users from accessing it.\n",
        "20. What is the difference between file.read() and file.readline() in Python?\n",
        "  - file.read() and file.readline() are both methods used to read data from a file in Python, but they differ in how much data they read at once and what they return.The `read()` method can be used to read binary data or text from a file, while the `readline()` method is typically used for reading lines of text. When using `read()`, you need to specify the number of characters you want to read, while `readline()` automatically reads until a newline character is encountered.\n",
        "21. What is the logging module in Python used for?\n",
        "  - The logging module in Python is used for tracking events that occur while a program runs. It provides a flexible framework for emitting log messages, which can be used for various purposes. the built-in logging module to capture logs, which provide insights into application flow, errors, and usage patterns. With Python logging, you can create and configure loggers, set log levels, and format log messages without installing additional packages.\n",
        "22. What is the os module in Python used for in file handling?    \n",
        "  - The os module in Python is used to interact with the operating system. It provides functions for file handling, directory management, and system-level operations. Python has a built-in os module with methods for interacting with the operating system, like creating files and directories, management of files and directories, input, output, environment variables, process management, etc.\n",
        "23. What are the challenges associated with memory management in Python?\n",
        "  - Memory management problems. The basic problem in managing memory is knowing when to keep the data it contains, and when to throw it away so that the memory can be reused. This sounds easy, but is, in fact, such a hard problem that it is an entire field of study in its own right. Memory errors are often encountered when dealing with large datasets or inefficient code that consumes more memory than is available.\n",
        "24. How do you raise an exception manually in Python?\n",
        "  - As a Python developer you can choose to throw an exception if a condition occurs. To throw (or raise) an exception, use the raise keyword.The Python interpreter raises an exception each time it detects an error in an expression or statement. Users can also raise exceptions with raise and assert statements. Raising exceptions. An exception is a object instance with a class that inherits, either directly or indirectly, from the BaseException class.\n",
        "25. Why is it important to use multithreading in certain applications?\n",
        "  - Multithreading is important in applications that benefit from concurrency, such as those involving I/O-bound tasks, real-time data processing, or where multiple tasks can run independently without blocking each other. By using multiple threads, applications can improve performance, responsiveness, and scalability.   \n",
        "\n",
        "\n",
        "\n",
        "\n"
      ],
      "metadata": {
        "id": "JLiAASm9-zr8"
      }
    },
    {
      "cell_type": "code",
      "execution_count": 1,
      "metadata": {
        "id": "izLSKmpz-Lo3"
      },
      "outputs": [],
      "source": [
        "# 1. How can you open a file for writing in Python and write a string to it?\n",
        "\n",
        "with open(\"my_file.txt\", \"w\") as file:\n",
        "    file.write(\"This is a string written to the file.\")"
      ]
    },
    {
      "cell_type": "code",
      "source": [
        "# 2. Write a Python program to read the contents of a file and print each line.\n",
        "\n",
        "def print_file_lines(file_path):\n",
        "    \"\"\"Reads a file and prints each line.\n",
        "\n",
        "    Args:\n",
        "        file_path: The path to the file.\n",
        "    \"\"\"\n",
        "    try:\n",
        "        with open(file_path, 'r') as file:\n",
        "            for line in file:\n",
        "                print(line, end='')\n",
        "    except FileNotFoundError:\n",
        "        print(f\"Error: File not found at {file_path}\")\n",
        "    except Exception as e:\n",
        "        print(f\"An error occurred: {e}\")\n"
      ],
      "metadata": {
        "id": "SF-C3kqcF0yd"
      },
      "execution_count": 2,
      "outputs": []
    },
    {
      "cell_type": "code",
      "source": [
        "# 3. How would you handle a case where the file doesn't exist while trying to open it for reading?\n",
        "\n",
        "try:\n",
        "    with open(\"abc.txt\", \"r\") as file:\n",
        "        data = file.read()\n",
        "except FileNotFoundError:\n",
        "    print(\"Not found\")"
      ],
      "metadata": {
        "colab": {
          "base_uri": "https://localhost:8080/"
        },
        "id": "cbWBB-hYG0Ro",
        "outputId": "8eb896d1-1b08-42cb-d9ce-5ad4349d4a0f"
      },
      "execution_count": 5,
      "outputs": [
        {
          "output_type": "stream",
          "name": "stdout",
          "text": [
            "Not found\n"
          ]
        }
      ]
    },
    {
      "cell_type": "code",
      "source": [
        "# 4. Python script that reads from one file and writes its content to another file.\n",
        "\n",
        "def copy_file(source_file, destination_file):\n",
        "    try:\n",
        "        with open(source_file, 'r') as infile, open(destination_file, 'w') as outfile:\n",
        "            for line in infile:\n",
        "                outfile.write(line)\n",
        "        print(f\"Successfully copied content from '{source_file}' to '{destination_file}'\")\n",
        "    except FileNotFoundError:\n",
        "        print(f\"Error: Source file '{source_file}' not found.\")\n",
        "    except Exception as e:\n",
        "        print(f\"An error occurred: {e}\")\n",
        "\n",
        "if __name__ == \"__main__\":\n",
        "    source_file = \"input.txt\"\n",
        "    destination_file = \"output.txt\"\n",
        "    copy_file(source_file, destination_file)"
      ],
      "metadata": {
        "colab": {
          "base_uri": "https://localhost:8080/"
        },
        "id": "98Z2eL4lHPSj",
        "outputId": "c367f6ac-cb64-4780-ef4c-0132af6155ad"
      },
      "execution_count": 6,
      "outputs": [
        {
          "output_type": "stream",
          "name": "stdout",
          "text": [
            "Error: Source file 'input.txt' not found.\n"
          ]
        }
      ]
    },
    {
      "cell_type": "code",
      "source": [
        "# 5. would you catch and handle division by zero error in Python?\n",
        "\n",
        "try:\n",
        "    result = 10 / 0\n",
        "except ZeroDivisionError:\n",
        "    print(\"Error: Cannot divide by zero.\")\n",
        "    result = None # or any other default value"
      ],
      "metadata": {
        "colab": {
          "base_uri": "https://localhost:8080/"
        },
        "id": "GWYYPMKjHgve",
        "outputId": "188d6e8a-7309-4841-a352-60c88eef3ae8"
      },
      "execution_count": 7,
      "outputs": [
        {
          "output_type": "stream",
          "name": "stdout",
          "text": [
            "Error: Cannot divide by zero.\n"
          ]
        }
      ]
    },
    {
      "cell_type": "code",
      "source": [
        "# 6. Python program that logs an error message to a log file when a division by zero exception occurs.\n",
        "\n",
        "import logging\n",
        "\n",
        "# Configure logging to write to a file\n",
        "logging.basicConfig(filename='error.log', level=logging.ERROR,\n",
        "                    format='%(asctime)s - %(levelname)s - %(message)s')\n",
        "\n",
        "def divide(x, y):\n",
        "    try:\n",
        "        result = x / y\n",
        "        return result\n",
        "    except ZeroDivisionError:\n",
        "        logging.error(\"Attempted division by zero\")\n",
        "        return None\n",
        "\n",
        "# Example usage\n",
        "numerator = 10\n",
        "denominator = 0\n",
        "result = divide(numerator, denominator)\n",
        "\n",
        "if result is None:\n",
        "    print(\"Cannot perform the division.\")\n",
        "else:\n",
        "    print(f\"The result of the division is: {result}\")\n",
        "\n",
        "numerator = 10\n",
        "denominator = 2\n",
        "result = divide(numerator, denominator)\n",
        "\n",
        "if result is None:\n",
        "    print(\"Cannot perform the division.\")\n",
        "else:\n",
        "    print(f\"The result of the division is: {result}\")"
      ],
      "metadata": {
        "colab": {
          "base_uri": "https://localhost:8080/"
        },
        "id": "hdzaVBwWIIww",
        "outputId": "cb54b318-c9c2-48b7-adc2-8c5faf6b5fd3"
      },
      "execution_count": 8,
      "outputs": [
        {
          "output_type": "stream",
          "name": "stderr",
          "text": [
            "ERROR:root:Attempted division by zero\n"
          ]
        },
        {
          "output_type": "stream",
          "name": "stdout",
          "text": [
            "Cannot perform the division.\n",
            "The result of the division is: 5.0\n"
          ]
        }
      ]
    },
    {
      "cell_type": "code",
      "source": [
        "# 7. log information at different levels (INFO, ERROR, WARNING) in Python using the logging module.\n",
        "\n",
        "import logging\n",
        "\n",
        "logging.basicConfig(level=logging.INFO, format='%(asctime)s - %(levelname)s - %(message)s')\n",
        "\n",
        "logging.debug(\"This is a debug message\")\n",
        "logging.info(\"This is an info message\")\n",
        "logging.warning(\"This is a warning message\")\n",
        "logging.error(\"This is an error message\")\n",
        "logging.critical(\"This is a critical message\")"
      ],
      "metadata": {
        "colab": {
          "base_uri": "https://localhost:8080/"
        },
        "id": "wN-bfYF-ImEh",
        "outputId": "cb86a4ab-d6c5-4e80-d193-c2e5392b3200"
      },
      "execution_count": 9,
      "outputs": [
        {
          "output_type": "stream",
          "name": "stderr",
          "text": [
            "WARNING:root:This is a warning message\n",
            "ERROR:root:This is an error message\n",
            "CRITICAL:root:This is a critical message\n"
          ]
        }
      ]
    },
    {
      "cell_type": "code",
      "source": [
        "# 8. Write a program to handle a file opening error using exception handling.\n",
        "\n",
        "try:\n",
        "    file = open(\"nonexistent_file.txt\", \"r\")\n",
        "    content = file.read()\n",
        "    print(content)\n",
        "    file.close()\n",
        "except FileNotFoundError:\n",
        "    print(\"Error: The file does not exist.\")\n",
        "except IOError:\n",
        "    print(\"Error: An I/O error occurred.\")\n",
        "except Exception as e:\n",
        "    print(f\"An unexpected error occurred: {e}\")\n",
        "finally:\n",
        "    print(\"File operation attempted.\")"
      ],
      "metadata": {
        "colab": {
          "base_uri": "https://localhost:8080/"
        },
        "id": "A9u57rgBJDdv",
        "outputId": "85d134b4-4778-456b-8fef-19daf3fa44a9"
      },
      "execution_count": 10,
      "outputs": [
        {
          "output_type": "stream",
          "name": "stdout",
          "text": [
            "Error: The file does not exist.\n",
            "File operation attempted.\n"
          ]
        }
      ]
    },
    {
      "cell_type": "code",
      "source": [
        "# 9. How can you read a file line by line and store its content in a list in Python?\n",
        "\n",
        "L = [\"Geeks\\n\", \"for\\n\", \"Geeks\\n\"]\n",
        "\n",
        "file1 = open('myfile.txt', 'w')\n",
        "file1.writelines(L)\n",
        "file1.close()\n",
        "\n",
        "file1 = open('myfile.txt', 'r')\n",
        "count = 0\n",
        "\n",
        "print(\"Using for loop\")\n",
        "for line in file1:\n",
        "    count += 1\n",
        "    print(\"Line{}: {}\".format(count, line.strip()))\n",
        "\n",
        "file1.close()"
      ],
      "metadata": {
        "colab": {
          "base_uri": "https://localhost:8080/"
        },
        "id": "hVs1a2P6J7LS",
        "outputId": "4021d9b3-1448-4156-d18b-7cc449b63c9a"
      },
      "execution_count": 14,
      "outputs": [
        {
          "output_type": "stream",
          "name": "stdout",
          "text": [
            "Using for loop\n",
            "Line1: Geeks\n",
            "Line2: for\n",
            "Line3: Geeks\n"
          ]
        }
      ]
    },
    {
      "cell_type": "code",
      "source": [
        "# 10. How can you append data to an existing file in Python?\n",
        "\n",
        "file_path = 'your_file.txt'\n",
        "\n",
        "with open(file_path, 'a') as file:\n",
        "    file.write('This is the new line of text to append.\\n')"
      ],
      "metadata": {
        "id": "eTX6K7srKL_i"
      },
      "execution_count": 15,
      "outputs": []
    },
    {
      "cell_type": "code",
      "source": [
        "# 11. try-except block to handle an error when attempting to access dictionary key that doesn't exist.\n",
        "\n",
        "my_dict = {\"a\": 1, \"b\": 2, \"c\": 3}\n",
        "\n",
        "try:\n",
        "    value = my_dict[\"d\"]\n",
        "    print(value)\n",
        "except KeyError:\n",
        "    print(\"Error: Key 'd' not found in the dictionary.\")"
      ],
      "metadata": {
        "colab": {
          "base_uri": "https://localhost:8080/"
        },
        "id": "oPYU1j19KWkK",
        "outputId": "441c29dc-2979-41b5-c07a-736bb6c1259f"
      },
      "execution_count": 16,
      "outputs": [
        {
          "output_type": "stream",
          "name": "stdout",
          "text": [
            "Error: Key 'd' not found in the dictionary.\n"
          ]
        }
      ]
    },
    {
      "cell_type": "code",
      "source": [
        "# 12. Write a program that demonstrates using multiple except blocks to handle different types of exceptions.\n",
        "\n",
        "a = [\"10\", \"twenty\", 30]  # Mixed list of integers and strings\n",
        "try:\n",
        "    total = int(a[0]) + int(a[1])  # 'twenty' cannot be converted to int\n",
        "\n",
        "except (ValueError, TypeError) as e:\n",
        "    print(\"Error\", e)\n",
        "\n",
        "except IndexError:\n",
        "    print(\"Index out of range.\")"
      ],
      "metadata": {
        "colab": {
          "base_uri": "https://localhost:8080/"
        },
        "id": "d89rp2PTKqjP",
        "outputId": "ccd34e1f-7886-4de5-c67b-66f2886da6f4"
      },
      "execution_count": 17,
      "outputs": [
        {
          "output_type": "stream",
          "name": "stdout",
          "text": [
            "Error invalid literal for int() with base 10: 'twenty'\n"
          ]
        }
      ]
    },
    {
      "cell_type": "code",
      "source": [
        "# 13. How would you check if a file exists before attempting to read it in Python?\n",
        "\n",
        "import os\n",
        "\n",
        "# Specify the file path\n",
        "file_path = 'my_data/my_file.txt'\n",
        "\n",
        "# Check if the file exists\n",
        "if os.path.exists(file_path):\n",
        "   print(\"The file exists.\")\n",
        "else:\n",
        "   print(\"The file does not exist.\")\n"
      ],
      "metadata": {
        "colab": {
          "base_uri": "https://localhost:8080/"
        },
        "id": "VaKAbtbcLjZO",
        "outputId": "69a93ddd-2f26-4539-9034-f5b20904622a"
      },
      "execution_count": 19,
      "outputs": [
        {
          "output_type": "stream",
          "name": "stdout",
          "text": [
            "The file does not exist.\n"
          ]
        }
      ]
    },
    {
      "cell_type": "code",
      "source": [
        "# 14. Write a program that uses the logging module to log both informational and error messages.\n",
        "\n",
        "import logging\n",
        "\n",
        "# Configure the logger\n",
        "logging.basicConfig(level=logging.INFO, format='%(asctime)s - %(levelname)s - %(message)s')\n",
        "\n",
        "def divide(x, y):\n",
        "    \"\"\"Divides two numbers and logs the operation.\"\"\"\n",
        "    logging.info(f\"Dividing {x} by {y}\")\n",
        "    try:\n",
        "        result = x / y\n",
        "        logging.info(f\"Result: {result}\")\n",
        "        return result\n",
        "    except ZeroDivisionError:\n",
        "        logging.error(\"Cannot divide by zero.\")\n",
        "        return None\n",
        "\n",
        "if __name__ == \"__main__\":\n",
        "    divide(10, 2)\n",
        "    divide(5, 0)"
      ],
      "metadata": {
        "colab": {
          "base_uri": "https://localhost:8080/"
        },
        "id": "tY-SYMXsNob1",
        "outputId": "fa062b27-50a8-418c-c19f-bbfc575934d6"
      },
      "execution_count": 20,
      "outputs": [
        {
          "output_type": "stream",
          "name": "stderr",
          "text": [
            "ERROR:root:Cannot divide by zero.\n"
          ]
        }
      ]
    },
    {
      "cell_type": "code",
      "source": [
        "# 15. Python program that prints the content of a file and handles the case when the file is empty.\n",
        "\n",
        "def print_file_content(filename):\n",
        "    \"\"\"Prints the content of a file.\n",
        "\n",
        "    Args:\n",
        "        filename: The path to the file.\n",
        "    \"\"\"\n",
        "    try:\n",
        "        with open(filename, 'r') as file:\n",
        "            content = file.read()\n",
        "            if not content:\n",
        "                print(\"The file is empty.\")\n",
        "            else:\n",
        "                print(content)\n",
        "    except FileNotFoundError:\n",
        "        print(f\"Error: File not found: {filename}\")\n"
      ],
      "metadata": {
        "id": "zli1tYq9N6cy"
      },
      "execution_count": 21,
      "outputs": []
    },
    {
      "cell_type": "code",
      "source": [
        "# 16. Demonstrate how to use memory profiling to check the memory usage of a small program.\n",
        "\n",
        "# importing libraries\n",
        "import os\n",
        "import psutil\n",
        "\n",
        "# inner psutil function\n",
        "def process_memory():\n",
        "    process = psutil.Process(os.getpid())\n",
        "    mem_info = process.memory_info()\n",
        "    return mem_info.rss\n",
        "\n",
        "# decorator function\n",
        "def profile(func):\n",
        "    def wrapper(*args, **kwargs):\n",
        "\n",
        "        mem_before = process_memory()\n",
        "        result = func(*args, **kwargs)\n",
        "        mem_after = process_memory()\n",
        "        print(\"{}:consumed memory: {:,}\".format(\n",
        "            func.__name__,\n",
        "            mem_before, mem_after, mem_after - mem_before))\n",
        "\n",
        "        return result\n",
        "    return wrapper\n"
      ],
      "metadata": {
        "id": "Dz28iCZXOLaa"
      },
      "execution_count": 22,
      "outputs": []
    },
    {
      "cell_type": "code",
      "source": [
        "# 17. Write a Python program to create and write a list of numbers to a file, one number per line.\n",
        "\n",
        "def write_numbers_to_file(filename, numbers):\n",
        "    \"\"\"Writes a list of numbers to a file, one number per line.\n",
        "\n",
        "    Args:\n",
        "        filename (str): The name of the file to write to.\n",
        "        numbers (list): A list of numbers to write to the file.\n",
        "    \"\"\"\n",
        "    with open(filename, 'w') as file:\n",
        "        for number in numbers:\n",
        "            file.write(str(number) + '\\n')\n",
        "\n",
        "if __name__ == '__main__':\n",
        "    numbers = [1, 2, 3, 4, 5]\n",
        "    filename = 'numbers.txt'\n",
        "    write_numbers_to_file(filename, numbers)\n",
        "    print(f\"Numbers written to '{filename}' successfully.\")"
      ],
      "metadata": {
        "colab": {
          "base_uri": "https://localhost:8080/"
        },
        "id": "cuzxCyYzPMwz",
        "outputId": "ebef388b-5d04-4759-e495-df278ab91e2b"
      },
      "execution_count": 23,
      "outputs": [
        {
          "output_type": "stream",
          "name": "stdout",
          "text": [
            "Numbers written to 'numbers.txt' successfully.\n"
          ]
        }
      ]
    },
    {
      "cell_type": "code",
      "source": [
        "# 18. How would you implement a basic logging setup that logs to a file with rotation after 1MB?\n",
        "\n",
        "import logging\n",
        "from logging.handlers import RotatingFileHandler\n",
        "\n",
        "def setup_logger(log_file_path):\n",
        "    \"\"\"Sets up a logger that writes to a file with rotation after 1MB.\"\"\"\n",
        "\n",
        "    logger = logging.getLogger(\"my_app\")\n",
        "    logger.setLevel(logging.DEBUG)\n",
        "\n",
        "    # Create a rotating file handler\n",
        "    handler = RotatingFileHandler(\n",
        "        log_file_path,\n",
        "        maxBytes=1024 * 1024,  # 1 MB\n",
        "        backupCount=5,        # Keep 5 backup files\n",
        "    )\n",
        "\n",
        "    # Create a formatter\n",
        "    formatter = logging.Formatter(\n",
        "        \"%(asctime)s - %(name)s - %(levelname)s - %(message)s\"\n",
        "    )\n",
        "    handler.setFormatter(formatter)\n",
        "\n",
        "    # Add the handler to the logger\n",
        "    logger.addHandler(handler)\n",
        "\n",
        "    return logger\n",
        "\n",
        "if __name__ == \"__main__\":\n",
        "    log_file = \"app.log\"\n",
        "    logger = setup_logger(log_file)"
      ],
      "metadata": {
        "id": "aqLV-EaJPesx"
      },
      "execution_count": 24,
      "outputs": []
    },
    {
      "cell_type": "code",
      "source": [
        "# 19. Write a program that handles both IndexError and KeyError using a try-except block.\n",
        "\n",
        "data = [1, 2, 3]\n",
        "dictionary = {\"a\": 1, \"b\": 2}\n",
        "\n",
        "try:\n",
        "  value = data[5] # This will cause an IndexError\n",
        "  value2 = dictionary[\"c\"] # This will cause a KeyError\n",
        "except (IndexError, KeyError) as e:\n",
        "  print(f\"Error: {e}\")"
      ],
      "metadata": {
        "colab": {
          "base_uri": "https://localhost:8080/"
        },
        "id": "sDuiTFOdP53S",
        "outputId": "583bd982-b56f-4855-f84d-3a3dd1723e61"
      },
      "execution_count": 25,
      "outputs": [
        {
          "output_type": "stream",
          "name": "stdout",
          "text": [
            "Error: list index out of range\n"
          ]
        }
      ]
    },
    {
      "cell_type": "code",
      "source": [
        "# 20. How would you open a file and read its contents using a context manager in Python?\n",
        "\n",
        "class ContextManager:\n",
        "    def __init__(self):\n",
        "        print('init method called')\n",
        "\n",
        "    def __enter__(self):\n",
        "        print('enter method called')\n",
        "        return self\n",
        "\n",
        "    def __exit__(self, exc_type, exc_value, exc_traceback):\n",
        "        print('exit method called')\n",
        "\n",
        "with ContextManager() as manager:\n",
        "    print('with statement block')"
      ],
      "metadata": {
        "colab": {
          "base_uri": "https://localhost:8080/"
        },
        "id": "oGjyjGnAUr1f",
        "outputId": "42ccd72e-aab3-43f5-ff3f-f51b9c79b4c9"
      },
      "execution_count": 28,
      "outputs": [
        {
          "output_type": "stream",
          "name": "stdout",
          "text": [
            "init method called\n",
            "enter method called\n",
            "with statement block\n",
            "exit method called\n"
          ]
        }
      ]
    },
    {
      "cell_type": "code",
      "source": [
        "# 21. Write a Python program that reads a file and prints the number of occurrences of a specific word.\n",
        "\n",
        "def count_word_occurrences(filepath, word):\n",
        "    \"\"\"\n",
        "    Reads a file and counts the occurrences of a specific word.\n",
        "\n",
        "    Args:\n",
        "        filepath (str): The path to the file.\n",
        "        word (str): The word to search for.\n",
        "\n",
        "    Returns:\n",
        "        int: The number of times the word appears in the file.\n",
        "    \"\"\"\n",
        "    count = 0\n",
        "    try:\n",
        "        with open(filepath, 'r') as file:\n",
        "            for line in file:\n",
        "                words = line.lower().split()\n",
        "                for w in words:\n",
        "                    if w == word.lower():\n",
        "                        count += 1\n",
        "    except FileNotFoundError:\n",
        "        print(f\"Error: File not found at {filepath}\")\n",
        "        return None\n",
        "    return count\n",
        "\n",
        "if __name__ == \"__main__\":\n",
        "    filepath = input(\"Enter the file path: \")\n",
        "    word = input(\"Enter the word to count: \")\n",
        "    occurrences = count_word_occurrences(filepath, word)\n",
        "    if occurrences is not None:\n",
        "        print(f\"The word '{word}' appears {occurrences} times in the file.\")"
      ],
      "metadata": {
        "colab": {
          "base_uri": "https://localhost:8080/"
        },
        "id": "MhftMLrxVDV9",
        "outputId": "438e8f29-2c0a-4437-becc-dcb2925fc532"
      },
      "execution_count": 33,
      "outputs": [
        {
          "output_type": "stream",
          "name": "stdout",
          "text": [
            "Enter the file path: int\n",
            "Enter the word to count: 7\n",
            "Error: File not found at int\n"
          ]
        }
      ]
    },
    {
      "cell_type": "code",
      "source": [
        "# 22. How can you check if a file is empty before attempting to read its contents?\n",
        "\n",
        "# import required libraries\n",
        "import os\n",
        "\n",
        "# file_path to check whether it is empty\n",
        "file_path = \"/Users/girish/Desktop/GFG Internship/input.txt\"\n",
        "\n",
        "try:\n",
        "    # get the size of file\n",
        "    file_size = os.path.getsize(file_path)\n",
        "\n",
        "    # if file size is 0, it is empty\n",
        "    if file_size == 0:\n",
        "        print(\"File is empty\")\n",
        "    else:\n",
        "        print(\"File is NOT empty\")\n",
        "\n",
        "# if file does not exist, then exception occurs\n",
        "except FileNotFoundError as e:\n",
        "    print(\"File NOT found\")"
      ],
      "metadata": {
        "colab": {
          "base_uri": "https://localhost:8080/"
        },
        "id": "_yeligUibloX",
        "outputId": "39926c3d-9ea8-401b-f73e-1d2f12cb7d45"
      },
      "execution_count": 35,
      "outputs": [
        {
          "output_type": "stream",
          "name": "stdout",
          "text": [
            "File NOT found\n"
          ]
        }
      ]
    },
    {
      "cell_type": "code",
      "source": [
        "# 23. Write a Python program that writes to a log file when an error occurs during file handling.\n",
        "\n",
        "import logging\n",
        "\n",
        "# Configure logging to write to a file\n",
        "logging.basicConfig(filename='file_handling_errors.log', level=logging.ERROR,\n",
        "                    format='%(asctime)s - %(levelname)s - %(message)s')\n",
        "\n",
        "def process_file(filename):\n",
        "    \"\"\"\n",
        "    Attempts to open and read a file. Logs an error if it fails.\n",
        "    \"\"\"\n",
        "    try:\n",
        "        with open(filename, 'r') as file:\n",
        "            contents = file.read()\n",
        "            print(\"File contents:\\n\", contents)\n",
        "    except FileNotFoundError:\n",
        "        logging.error(f\"File not found: {filename}\")\n",
        "    except PermissionError:\n",
        "        logging.error(f\"Permission denied to access: {filename}\")\n",
        "    except Exception as e:\n",
        "        logging.error(f\"An unexpected error occurred: {e}\")\n"
      ],
      "metadata": {
        "id": "STGvdi_6b4a2"
      },
      "execution_count": 36,
      "outputs": []
    },
    {
      "cell_type": "code",
      "source": [],
      "metadata": {
        "id": "BFwI2CGscErr"
      },
      "execution_count": null,
      "outputs": []
    }
  ]
}